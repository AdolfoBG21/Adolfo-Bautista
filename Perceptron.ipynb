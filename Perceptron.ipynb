{
  "nbformat": 4,
  "nbformat_minor": 0,
  "metadata": {
    "colab": {
      "provenance": [],
      "authorship_tag": "ABX9TyMksIUBPzEKd2YIgyQjaMnw",
      "include_colab_link": true
    },
    "kernelspec": {
      "name": "python3",
      "display_name": "Python 3"
    },
    "language_info": {
      "name": "python"
    }
  },
  "cells": [
    {
      "cell_type": "markdown",
      "metadata": {
        "id": "view-in-github",
        "colab_type": "text"
      },
      "source": [
        "<a href=\"https://colab.research.google.com/github/AdolfoBG21/Adolfo-Bautista/blob/main/Perceptron.ipynb\" target=\"_parent\"><img src=\"https://colab.research.google.com/assets/colab-badge.svg\" alt=\"Open In Colab\"/></a>"
      ]
    },
    {
      "cell_type": "code",
      "execution_count": 1,
      "metadata": {
        "id": "Zdu-4wUx4HTI"
      },
      "outputs": [],
      "source": [
        "class Perceptron:\n",
        "    def __init__ (self, pesos, sesgo, tp):\n",
        "        self.pesos = pesos\n",
        "        self.sesgo = sesgo\n",
        "        self.tp = tp\n",
        "\n",
        "    def funcion_activacion(self,z):\n",
        "        if z>= 0:\n",
        "            return 1\n",
        "        else:\n",
        "            return 0\n",
        "    def entrenamiento(self,X ,Y , epoca):\n",
        "        for epoca in range(epoca):\n",
        "            for dato in X:\n",
        "                x1, x2 = dato[0], dato[1]\n",
        "                w1 = self.pesos[0]\n",
        "                w2 = self.pesos[1]\n",
        "                b = self.sesgo\n",
        "                z = x1 * w1 + x2 * w2 + b\n",
        "                y_pred = self.funcion_activacion(z)\n",
        "                i = X.index(dato)\n",
        "                y_real = Y[i]\n",
        "                self.pesos[0] = w1 + self.tp * (y_real-y_pred) * x1\n",
        "                self.pesos[1] = w2 + self.tp * (y_real-y_pred) * x2\n",
        "                self.sesgo = b + self.tp * (y_real-y_pred)\n",
        "                print(f\"dato {dato}, prediccion {y_pred}, pesos{self.pesos}, sesgo{self.sesgo}\")\n",
        "                print(f\"Fin de la epoca {epoca}\")"
      ]
    },
    {
      "cell_type": "code",
      "source": [
        "X = [[1, 1], [1, 0], [0, 1], [0, 0]]\n",
        "Y = [1, 0, 0, 0]\n",
        "pesos = [2, 3]\n",
        "sesgo = 4\n",
        "tp = 0.1"
      ],
      "metadata": {
        "id": "2NfVnb134SAg"
      },
      "execution_count": 2,
      "outputs": []
    },
    {
      "cell_type": "code",
      "source": [
        "p = Perceptron(pesos, sesgo, tp)"
      ],
      "metadata": {
        "id": "hsTpyFJl4Y4m"
      },
      "execution_count": 3,
      "outputs": []
    },
    {
      "cell_type": "code",
      "source": [
        "epoca = 5\n",
        "p.entrenamiento(X, Y, epoca)"
      ],
      "metadata": {
        "colab": {
          "base_uri": "https://localhost:8080/"
        },
        "id": "xqzwu0up4eer",
        "outputId": "6e7a5ba6-0bbe-4372-e953-fa76aa39d81f"
      },
      "execution_count": 5,
      "outputs": [
        {
          "output_type": "stream",
          "name": "stdout",
          "text": [
            "dato [1, 1], prediccion 1, pesos[0.39999999999999936, 0.9999999999999983], sesgo-0.9000000000000024\n",
            "Fin de la epoca 0\n",
            "dato [1, 0], prediccion 0, pesos[0.39999999999999936, 0.9999999999999983], sesgo-0.9000000000000024\n",
            "Fin de la epoca 0\n",
            "dato [0, 1], prediccion 1, pesos[0.39999999999999936, 0.8999999999999984], sesgo-1.0000000000000024\n",
            "Fin de la epoca 0\n",
            "dato [0, 0], prediccion 0, pesos[0.39999999999999936, 0.8999999999999984], sesgo-1.0000000000000024\n",
            "Fin de la epoca 0\n",
            "dato [1, 1], prediccion 1, pesos[0.39999999999999936, 0.8999999999999984], sesgo-1.0000000000000024\n",
            "Fin de la epoca 1\n",
            "dato [1, 0], prediccion 0, pesos[0.39999999999999936, 0.8999999999999984], sesgo-1.0000000000000024\n",
            "Fin de la epoca 1\n",
            "dato [0, 1], prediccion 0, pesos[0.39999999999999936, 0.8999999999999984], sesgo-1.0000000000000024\n",
            "Fin de la epoca 1\n",
            "dato [0, 0], prediccion 0, pesos[0.39999999999999936, 0.8999999999999984], sesgo-1.0000000000000024\n",
            "Fin de la epoca 1\n",
            "dato [1, 1], prediccion 1, pesos[0.39999999999999936, 0.8999999999999984], sesgo-1.0000000000000024\n",
            "Fin de la epoca 2\n",
            "dato [1, 0], prediccion 0, pesos[0.39999999999999936, 0.8999999999999984], sesgo-1.0000000000000024\n",
            "Fin de la epoca 2\n",
            "dato [0, 1], prediccion 0, pesos[0.39999999999999936, 0.8999999999999984], sesgo-1.0000000000000024\n",
            "Fin de la epoca 2\n",
            "dato [0, 0], prediccion 0, pesos[0.39999999999999936, 0.8999999999999984], sesgo-1.0000000000000024\n",
            "Fin de la epoca 2\n",
            "dato [1, 1], prediccion 1, pesos[0.39999999999999936, 0.8999999999999984], sesgo-1.0000000000000024\n",
            "Fin de la epoca 3\n",
            "dato [1, 0], prediccion 0, pesos[0.39999999999999936, 0.8999999999999984], sesgo-1.0000000000000024\n",
            "Fin de la epoca 3\n",
            "dato [0, 1], prediccion 0, pesos[0.39999999999999936, 0.8999999999999984], sesgo-1.0000000000000024\n",
            "Fin de la epoca 3\n",
            "dato [0, 0], prediccion 0, pesos[0.39999999999999936, 0.8999999999999984], sesgo-1.0000000000000024\n",
            "Fin de la epoca 3\n",
            "dato [1, 1], prediccion 1, pesos[0.39999999999999936, 0.8999999999999984], sesgo-1.0000000000000024\n",
            "Fin de la epoca 4\n",
            "dato [1, 0], prediccion 0, pesos[0.39999999999999936, 0.8999999999999984], sesgo-1.0000000000000024\n",
            "Fin de la epoca 4\n",
            "dato [0, 1], prediccion 0, pesos[0.39999999999999936, 0.8999999999999984], sesgo-1.0000000000000024\n",
            "Fin de la epoca 4\n",
            "dato [0, 0], prediccion 0, pesos[0.39999999999999936, 0.8999999999999984], sesgo-1.0000000000000024\n",
            "Fin de la epoca 4\n"
          ]
        }
      ]
    }
  ]
}