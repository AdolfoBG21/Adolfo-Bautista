{
  "nbformat": 4,
  "nbformat_minor": 0,
  "metadata": {
    "colab": {
      "provenance": [],
      "authorship_tag": "ABX9TyOSst4lsP1JPSNkx6cvchqH",
      "include_colab_link": true
    },
    "kernelspec": {
      "name": "python3",
      "display_name": "Python 3"
    },
    "language_info": {
      "name": "python"
    }
  },
  "cells": [
    {
      "cell_type": "markdown",
      "metadata": {
        "id": "view-in-github",
        "colab_type": "text"
      },
      "source": [
        "<a href=\"https://colab.research.google.com/github/AdolfoBG21/Adolfo-Bautista/blob/main/Perceptron%20OR%20Y%20NOT.ipynb\" target=\"_parent\"><img src=\"https://colab.research.google.com/assets/colab-badge.svg\" alt=\"Open In Colab\"/></a>"
      ]
    },
    {
      "cell_type": "code",
      "execution_count": 21,
      "metadata": {
        "id": "Zdu-4wUx4HTI"
      },
      "outputs": [],
      "source": [
        "# Operacion OR\n",
        "class Perceptron:\n",
        "    # Constructor de la clase Perceptron\n",
        "    def __init__ (self, pesos, sesgo, tp):\n",
        "        # Inicializa los pesos del perceptrón\n",
        "        self.pesos = pesos\n",
        "        # Inicializa el sesgo (bias) del perceptrón\n",
        "        self.sesgo = sesgo\n",
        "        # Inicializa la tasa de aprendizaje (learning rate)\n",
        "        self.tp = tp\n",
        "\n",
        "    # Función de activación (escalón unitario)\n",
        "    def funcion_activacion(self,z):\n",
        "        # Si la entrada ponderada es mayor o igual a 0, devuelve 1\n",
        "        if z>= 0:\n",
        "            return 1\n",
        "        # De lo contrario, devuelve 0\n",
        "        else:\n",
        "            return 0\n",
        "\n",
        "    # Método para entrenar el perceptrón\n",
        "    def entrenamiento(self,X ,Y , epoca):\n",
        "        # Itera sobre el número de épocas (iteraciones completas sobre el conjunto de datos)\n",
        "        for epoca in range(epoca):\n",
        "            # Itera sobre cada dato de entrada en el conjunto X\n",
        "            for dato in X:\n",
        "                # Extrae los valores de entrada x1 y x2 del dato actual\n",
        "                x1, x2 = dato[0], dato[1]\n",
        "                # Obtiene los pesos actuales\n",
        "                w1 = self.pesos[0]\n",
        "                w2 = self.pesos[1]\n",
        "                # Obtiene el sesgo actual\n",
        "                b = self.sesgo\n",
        "                # Calcula la suma ponderada de las entradas más el sesgo (función de red)\n",
        "                z = x1 * w1 + x2 * w2 + b\n",
        "                # Aplica la función de activación para obtener la predicción del perceptrón\n",
        "                y_pred = self.funcion_activacion(z)\n",
        "                # Obtiene el índice del dato actual en la lista X\n",
        "                i = X.index(dato)\n",
        "                # Obtiene el valor real de la salida para el dato actual\n",
        "                y_real = Y[i]\n",
        "                # Actualiza el peso w1 usando la regla de aprendizaje del perceptrón\n",
        "                self.pesos[0] = w1 + self.tp * (y_real-y_pred) * x1\n",
        "                # Actualiza el peso w2 usando la regla de aprendizaje del perceptrón\n",
        "                self.pesos[1] = w2 + self.tp * (y_real-y_pred) * x2\n",
        "                # Actualiza el sesgo usando la regla de aprendizaje del perceptrón\n",
        "                self.sesgo = b + self.tp * (y_real-y_pred)\n",
        "                # Imprime información del proceso de entrenamiento para el dato actual\n",
        "                print(f\"dato {dato}, prediccion {y_pred}, pesos{self.pesos}, sesgo{self.sesgo}\")\n",
        "            # Imprime el fin de cada época\n",
        "            print(f\"Fin de la epoca {epoca}\")"
      ]
    },
    {
      "cell_type": "code",
      "source": [
        "# Datos de entrada para la operación OR\n",
        "X = [[1, 1], [1, 0], [0, 1], [0, 0]]\n",
        "# Salidas esperadas para la operación OR\n",
        "Y = [1, 1, 1, 0]\n",
        "# Pesos iniciales del perceptrón\n",
        "pesos = [9, 10]\n",
        "# Sesgo inicial del perceptrón\n",
        "sesgo = 5\n",
        "# Tasa de aprendizaje\n",
        "tp = 0.1"
      ],
      "metadata": {
        "id": "2NfVnb134SAg"
      },
      "execution_count": 33,
      "outputs": []
    },
    {
      "cell_type": "code",
      "source": [
        "p = Perceptron(pesos, sesgo, tp)"
      ],
      "metadata": {
        "id": "hsTpyFJl4Y4m"
      },
      "execution_count": 34,
      "outputs": []
    },
    {
      "cell_type": "code",
      "source": [
        "epoca = 10\n",
        "p.entrenamiento(X, Y, epoca)"
      ],
      "metadata": {
        "colab": {
          "base_uri": "https://localhost:8080/"
        },
        "id": "xqzwu0up4eer",
        "outputId": "bd4690ef-2296-4429-dc8b-7beacfa7475c"
      },
      "execution_count": 35,
      "outputs": [
        {
          "output_type": "stream",
          "name": "stdout",
          "text": [
            "dato [1, 1], prediccion 1, pesos[9.0, 10.0], sesgo5.0\n",
            "dato [1, 0], prediccion 1, pesos[9.0, 10.0], sesgo5.0\n",
            "dato [0, 1], prediccion 1, pesos[9.0, 10.0], sesgo5.0\n",
            "dato [0, 0], prediccion 1, pesos[9.0, 10.0], sesgo4.9\n",
            "Fin de la epoca 0\n",
            "dato [1, 1], prediccion 1, pesos[9.0, 10.0], sesgo4.9\n",
            "dato [1, 0], prediccion 1, pesos[9.0, 10.0], sesgo4.9\n",
            "dato [0, 1], prediccion 1, pesos[9.0, 10.0], sesgo4.9\n",
            "dato [0, 0], prediccion 1, pesos[9.0, 10.0], sesgo4.800000000000001\n",
            "Fin de la epoca 1\n",
            "dato [1, 1], prediccion 1, pesos[9.0, 10.0], sesgo4.800000000000001\n",
            "dato [1, 0], prediccion 1, pesos[9.0, 10.0], sesgo4.800000000000001\n",
            "dato [0, 1], prediccion 1, pesos[9.0, 10.0], sesgo4.800000000000001\n",
            "dato [0, 0], prediccion 1, pesos[9.0, 10.0], sesgo4.700000000000001\n",
            "Fin de la epoca 2\n",
            "dato [1, 1], prediccion 1, pesos[9.0, 10.0], sesgo4.700000000000001\n",
            "dato [1, 0], prediccion 1, pesos[9.0, 10.0], sesgo4.700000000000001\n",
            "dato [0, 1], prediccion 1, pesos[9.0, 10.0], sesgo4.700000000000001\n",
            "dato [0, 0], prediccion 1, pesos[9.0, 10.0], sesgo4.600000000000001\n",
            "Fin de la epoca 3\n",
            "dato [1, 1], prediccion 1, pesos[9.0, 10.0], sesgo4.600000000000001\n",
            "dato [1, 0], prediccion 1, pesos[9.0, 10.0], sesgo4.600000000000001\n",
            "dato [0, 1], prediccion 1, pesos[9.0, 10.0], sesgo4.600000000000001\n",
            "dato [0, 0], prediccion 1, pesos[9.0, 10.0], sesgo4.500000000000002\n",
            "Fin de la epoca 4\n",
            "dato [1, 1], prediccion 1, pesos[9.0, 10.0], sesgo4.500000000000002\n",
            "dato [1, 0], prediccion 1, pesos[9.0, 10.0], sesgo4.500000000000002\n",
            "dato [0, 1], prediccion 1, pesos[9.0, 10.0], sesgo4.500000000000002\n",
            "dato [0, 0], prediccion 1, pesos[9.0, 10.0], sesgo4.400000000000002\n",
            "Fin de la epoca 5\n",
            "dato [1, 1], prediccion 1, pesos[9.0, 10.0], sesgo4.400000000000002\n",
            "dato [1, 0], prediccion 1, pesos[9.0, 10.0], sesgo4.400000000000002\n",
            "dato [0, 1], prediccion 1, pesos[9.0, 10.0], sesgo4.400000000000002\n",
            "dato [0, 0], prediccion 1, pesos[9.0, 10.0], sesgo4.3000000000000025\n",
            "Fin de la epoca 6\n",
            "dato [1, 1], prediccion 1, pesos[9.0, 10.0], sesgo4.3000000000000025\n",
            "dato [1, 0], prediccion 1, pesos[9.0, 10.0], sesgo4.3000000000000025\n",
            "dato [0, 1], prediccion 1, pesos[9.0, 10.0], sesgo4.3000000000000025\n",
            "dato [0, 0], prediccion 1, pesos[9.0, 10.0], sesgo4.200000000000003\n",
            "Fin de la epoca 7\n",
            "dato [1, 1], prediccion 1, pesos[9.0, 10.0], sesgo4.200000000000003\n",
            "dato [1, 0], prediccion 1, pesos[9.0, 10.0], sesgo4.200000000000003\n",
            "dato [0, 1], prediccion 1, pesos[9.0, 10.0], sesgo4.200000000000003\n",
            "dato [0, 0], prediccion 1, pesos[9.0, 10.0], sesgo4.100000000000003\n",
            "Fin de la epoca 8\n",
            "dato [1, 1], prediccion 1, pesos[9.0, 10.0], sesgo4.100000000000003\n",
            "dato [1, 0], prediccion 1, pesos[9.0, 10.0], sesgo4.100000000000003\n",
            "dato [0, 1], prediccion 1, pesos[9.0, 10.0], sesgo4.100000000000003\n",
            "dato [0, 0], prediccion 1, pesos[9.0, 10.0], sesgo4.0000000000000036\n",
            "Fin de la epoca 9\n"
          ]
        }
      ]
    },
    {
      "cell_type": "code",
      "source": [
        "class Perceptron: #Not\n",
        "    # Constructor de la clase Perceptron\n",
        "    def __init__ (self, pesos, sesgo, tp):\n",
        "        # Inicializa los pesos del perceptrón\n",
        "        self.pesos = pesos\n",
        "        # Inicializa el sesgo (bias) del perceptrón\n",
        "        self.sesgo = sesgo\n",
        "        # Inicializa la tasa de aprendizaje (learning rate)\n",
        "        self.tp = tp\n",
        "\n",
        "    # Función de activación (escalón unitario)\n",
        "    def funcion_activacion(self,z):\n",
        "        # Si la entrada ponderada es mayor o igual a 0, devuelve 1\n",
        "        if z>= 0:\n",
        "            return 1\n",
        "        # De lo contrario, devuelve 0\n",
        "        else:\n",
        "            return 0\n",
        "\n",
        "    # Método para entrenar el perceptrón\n",
        "    def entrenamiento(self,X ,Y , epoca):\n",
        "        # Itera sobre el número de épocas (iteraciones completas sobre el conjunto de datos)\n",
        "        for epoca in range(epoca):\n",
        "            # Itera sobre cada dato de entrada en el conjunto X\n",
        "            for i, dato in enumerate(X):\n",
        "                # Manejar una sola entrada para la operación NOT\n",
        "                if len(dato) == 1:\n",
        "                    x1 = dato[0]\n",
        "                    w1 = self.pesos[0]\n",
        "                    b = self.sesgo\n",
        "                    # Calcula la suma ponderada de la entrada más el sesgo (función de red)\n",
        "                    z = x1 * w1 + b\n",
        "                # Manejar dos entradas para otras operaciones (como OR)\n",
        "                elif len(dato) == 2:\n",
        "                    x1, x2 = dato[0], dato[1]\n",
        "                    w1 = self.pesos[0]\n",
        "                    w2 = self.pesos[1]\n",
        "                    b = self.sesgo\n",
        "                    # Calcula la suma ponderada de las entradas más el sesgo (función de red)\n",
        "                    z = x1 * w1 + x2 * w2 + b\n",
        "                else:\n",
        "                    raise ValueError(\"Los datos de entrada deben tener 1 o 2 características\")\n",
        "\n",
        "                # Aplica la función de activación para obtener la predicción del perceptrón\n",
        "                y_pred = self.funcion_activacion(z)\n",
        "                # Obtiene el valor real de la salida para el dato actual\n",
        "                y_real = Y[i]\n",
        "\n",
        "                # Actualiza los pesos y el sesgo basándose en el número de entradas\n",
        "                error = y_real - y_pred\n",
        "                # Actualiza el peso w1\n",
        "                self.pesos[0] = self.pesos[0] + self.tp * error * x1\n",
        "                # Si hay dos entradas, actualiza también w2\n",
        "                if len(dato) == 2:\n",
        "                    self.pesos[1] = self.pesos[1] + self.tp * error * x2\n",
        "                # Actualiza el sesgo\n",
        "                self.sesgo = self.sesgo + self.tp * error\n",
        "\n",
        "                # Imprime información del proceso de entrenamiento para el dato actual\n",
        "                print(f\"dato {dato}, prediccion {y_pred}, pesos{self.pesos}, sesgo{self.sesgo}\")\n",
        "            # Imprime el fin de cada época\n",
        "            print(f\"Fin de la epoca {epoca}\")"
      ],
      "metadata": {
        "id": "7ZY33lqnkQKw"
      },
      "execution_count": 48,
      "outputs": []
    },
    {
      "cell_type": "code",
      "source": [
        "# Datos de entrada para la operación NOT\n",
        "X = [[0], [1]]\n",
        "\n",
        "# Salidas esperadas para la operación NOT\n",
        "Y = [1, 0]\n",
        "\n",
        "# Pesos iniciales del perceptrón (solo necesitamos un peso para una entrada)\n",
        "pesos = [-1]\n",
        "# Sesgo inicial del perceptrón\n",
        "sesgo = 1\n",
        "# Tasa de aprendizaje\n",
        "tp = 0.1"
      ],
      "metadata": {
        "id": "W23mmsNeleKa"
      },
      "execution_count": 49,
      "outputs": []
    },
    {
      "cell_type": "code",
      "source": [
        "p = Perceptron(pesos, sesgo, tp)"
      ],
      "metadata": {
        "id": "EaUVWbY6ljKO"
      },
      "execution_count": 50,
      "outputs": []
    },
    {
      "cell_type": "code",
      "source": [
        "epoca = 10\n",
        "p.entrenamiento(X, Y, epoca)"
      ],
      "metadata": {
        "colab": {
          "base_uri": "https://localhost:8080/"
        },
        "id": "mqny8QzbllMa",
        "outputId": "f9e5673b-fc3a-492d-a6dc-8a360deffaeb"
      },
      "execution_count": 51,
      "outputs": [
        {
          "output_type": "stream",
          "name": "stdout",
          "text": [
            "dato [0], prediccion 1, pesos[-1.0], sesgo1.0\n",
            "dato [1], prediccion 1, pesos[-1.1], sesgo0.9\n",
            "Fin de la epoca 0\n",
            "dato [0], prediccion 1, pesos[-1.1], sesgo0.9\n",
            "dato [1], prediccion 0, pesos[-1.1], sesgo0.9\n",
            "Fin de la epoca 1\n",
            "dato [0], prediccion 1, pesos[-1.1], sesgo0.9\n",
            "dato [1], prediccion 0, pesos[-1.1], sesgo0.9\n",
            "Fin de la epoca 2\n",
            "dato [0], prediccion 1, pesos[-1.1], sesgo0.9\n",
            "dato [1], prediccion 0, pesos[-1.1], sesgo0.9\n",
            "Fin de la epoca 3\n",
            "dato [0], prediccion 1, pesos[-1.1], sesgo0.9\n",
            "dato [1], prediccion 0, pesos[-1.1], sesgo0.9\n",
            "Fin de la epoca 4\n",
            "dato [0], prediccion 1, pesos[-1.1], sesgo0.9\n",
            "dato [1], prediccion 0, pesos[-1.1], sesgo0.9\n",
            "Fin de la epoca 5\n",
            "dato [0], prediccion 1, pesos[-1.1], sesgo0.9\n",
            "dato [1], prediccion 0, pesos[-1.1], sesgo0.9\n",
            "Fin de la epoca 6\n",
            "dato [0], prediccion 1, pesos[-1.1], sesgo0.9\n",
            "dato [1], prediccion 0, pesos[-1.1], sesgo0.9\n",
            "Fin de la epoca 7\n",
            "dato [0], prediccion 1, pesos[-1.1], sesgo0.9\n",
            "dato [1], prediccion 0, pesos[-1.1], sesgo0.9\n",
            "Fin de la epoca 8\n",
            "dato [0], prediccion 1, pesos[-1.1], sesgo0.9\n",
            "dato [1], prediccion 0, pesos[-1.1], sesgo0.9\n",
            "Fin de la epoca 9\n"
          ]
        }
      ]
    }
  ]
}